{
  "nbformat": 4,
  "nbformat_minor": 0,
  "metadata": {
    "colab": {
      "provenance": [],
      "authorship_tag": "ABX9TyMEsro2lnMOSME3J7Nz/rbB",
      "include_colab_link": true
    },
    "kernelspec": {
      "name": "python3",
      "display_name": "Python 3"
    },
    "language_info": {
      "name": "python"
    }
  },
  "cells": [
    {
      "cell_type": "markdown",
      "metadata": {
        "id": "view-in-github",
        "colab_type": "text"
      },
      "source": [
        "<a href=\"https://colab.research.google.com/github/longnhat2k9/btvntin/blob/main/BTVN_tin.ipynb\" target=\"_parent\"><img src=\"https://colab.research.google.com/assets/colab-badge.svg\" alt=\"Open In Colab\"/></a>"
      ]
    },
    {
      "cell_type": "markdown",
      "source": [
        "Bài 1: a. Viết chương trình con tìm số lớn hơn trong 2 số x và y.\n",
        "b. Sử dụng chương trình con ở câu a tìm số lớn nhất trong 3 số."
      ],
      "metadata": {
        "id": "rMsa6nYvBfJf"
      }
    },
    {
      "cell_type": "code",
      "execution_count": null,
      "metadata": {
        "colab": {
          "base_uri": "https://localhost:8080/"
        },
        "id": "wZu_c7vTBXj7",
        "outputId": "3c3c7ff8-a127-4d45-e414-0e07fbdf3650"
      },
      "outputs": [
        {
          "output_type": "stream",
          "name": "stdout",
          "text": [
            "2\n",
            "3\n",
            "4\n",
            "4\n"
          ]
        }
      ],
      "source": [
        "#cau a\n",
        "def mx(x, y):\n",
        "  if(x > y):\n",
        "    return x\n",
        "  else:\n",
        "    return y\n",
        "\n",
        "#cau b\n",
        "a = int(input())\n",
        "b = int(input())\n",
        "c = int(input())\n",
        "print(mx(a, mx(b, c)))"
      ]
    },
    {
      "cell_type": "markdown",
      "source": [
        "Câu 2: Viết chương trình nhập vào x, y, z. Tính S = 2^x + 3^y + 4^z"
      ],
      "metadata": {
        "id": "LpzODn-NCSGY"
      }
    },
    {
      "cell_type": "code",
      "source": [
        "def luythua(x, y, z):\n",
        "  return 2**x + 3**y + 4**z\n",
        "\n",
        "x = int(input())\n",
        "y = int(input())\n",
        "z = int(input())\n",
        "print(luythua(x, y, z))"
      ],
      "metadata": {
        "colab": {
          "base_uri": "https://localhost:8080/"
        },
        "id": "zWuSNCcCCh5L",
        "outputId": "0929d536-34f8-41e5-b9fc-c308457b47b0"
      },
      "execution_count": null,
      "outputs": [
        {
          "output_type": "stream",
          "name": "stdout",
          "text": [
            "2\n",
            "3\n",
            "4\n",
            "287\n"
          ]
        }
      ]
    },
    {
      "cell_type": "markdown",
      "source": [
        "Câu 3: Viết chương trình nhập vào các số nguyên dương m và n. Tính T = m! + n!"
      ],
      "metadata": {
        "id": "c3lWjB0oCyOB"
      }
    },
    {
      "cell_type": "code",
      "source": [
        "def giaithua(m):\n",
        "  tich = 1\n",
        "  for i in range(2, m + 1, 1):\n",
        "    tich = tich * i\n",
        "  return tich\n",
        "\n",
        "m = int(input())\n",
        "n = int(input())\n",
        "print(giaithua(m) + giaithua(n))"
      ],
      "metadata": {
        "colab": {
          "base_uri": "https://localhost:8080/"
        },
        "id": "AwK1_SoiC-4p",
        "outputId": "f894996d-6501-49f7-d5f0-29a96bb5c4a5"
      },
      "execution_count": null,
      "outputs": [
        {
          "output_type": "stream",
          "name": "stdout",
          "text": [
            "3\n",
            "4\n",
            "30\n"
          ]
        }
      ]
    },
    {
      "cell_type": "markdown",
      "source": [
        "Made by Nhat.\n"
      ],
      "metadata": {
        "id": "EI7HcM9YD-uY"
      }
    },
    {
      "cell_type": "markdown",
      "source": [
        "phannguyenlongnhat2k9@gmail.com"
      ],
      "metadata": {
        "id": "D-bPXV5LEEnV"
      }
    }
  ]
}