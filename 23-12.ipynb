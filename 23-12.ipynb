{
  "cells": [
    {
      "cell_type": "markdown",
      "metadata": {
        "colab_type": "text",
        "id": "view-in-github"
      },
      "source": [
        "<a href=\"https://colab.research.google.com/github/longnhat2k9/btvntin/blob/main/BTVN_tin.ipynb\" target=\"_parent\"><img src=\"https://colab.research.google.com/assets/colab-badge.svg\" alt=\"Open In Colab\"/></a>"
      ]
    },
    {
      "cell_type": "markdown",
      "metadata": {
        "id": "rMsa6nYvBfJf"
      },
      "source": [
        "Bài 1: a. Viết chương trình con tìm số lớn hơn trong 2 số x và y.\n",
        "b. Sử dụng chương trình con ở câu a tìm số lớn nhất trong 3 số."
      ]
    },
    {
      "cell_type": "code",
      "execution_count": null,
      "metadata": {
        "colab": {
          "base_uri": "https://localhost:8080/"
        },
        "id": "wZu_c7vTBXj7",
        "outputId": "3c3c7ff8-a127-4d45-e414-0e07fbdf3650"
      },
      "outputs": [
        {
          "name": "stdout",
          "output_type": "stream",
          "text": [
            "2\n",
            "3\n",
            "4\n",
            "4\n"
          ]
        }
      ],
      "source": [
        "#cau a\n",
        "def mx(x, y):\n",
        "  if(x > y):\n",
        "    return x\n",
        "  else:\n",
        "    return y\n",
        "\n",
        "#cau b\n",
        "a = int(input())\n",
        "b = int(input())\n",
        "c = int(input())\n",
        "print(mx(a, mx(b, c)))"
      ]
    },
    {
      "cell_type": "markdown",
      "metadata": {
        "id": "LpzODn-NCSGY"
      },
      "source": [
        "Câu 2: Viết chương trình nhập vào x, y, z. Tính S = 2^x + 3^y + 4^z"
      ]
    },
    {
      "cell_type": "code",
      "execution_count": null,
      "metadata": {
        "colab": {
          "base_uri": "https://localhost:8080/"
        },
        "id": "zWuSNCcCCh5L",
        "outputId": "0929d536-34f8-41e5-b9fc-c308457b47b0"
      },
      "outputs": [
        {
          "name": "stdout",
          "output_type": "stream",
          "text": [
            "2\n",
            "3\n",
            "4\n",
            "287\n"
          ]
        }
      ],
      "source": [
        "def luythua(x, y, z):\n",
        "  return 2**x + 3**y + 4**z\n",
        "\n",
        "x = int(input())\n",
        "y = int(input())\n",
        "z = int(input())\n",
        "print(luythua(x, y, z))"
      ]
    },
    {
      "cell_type": "markdown",
      "metadata": {
        "id": "c3lWjB0oCyOB"
      },
      "source": [
        "Câu 3: Viết chương trình nhập vào các số nguyên dương m và n. Tính T = m! + n!"
      ]
    },
    {
      "cell_type": "code",
      "execution_count": null,
      "metadata": {
        "colab": {
          "base_uri": "https://localhost:8080/"
        },
        "id": "AwK1_SoiC-4p",
        "outputId": "f894996d-6501-49f7-d5f0-29a96bb5c4a5"
      },
      "outputs": [
        {
          "name": "stdout",
          "output_type": "stream",
          "text": [
            "3\n",
            "4\n",
            "30\n"
          ]
        }
      ],
      "source": [
        "def giaithua(m):\n",
        "  tich = 1\n",
        "  for i in range(2, m + 1, 1):\n",
        "    tich = tich * i\n",
        "  return tich\n",
        "\n",
        "m = int(input())\n",
        "n = int(input())\n",
        "print(giaithua(m) + giaithua(n))"
      ]
    },
    {
      "cell_type": "markdown",
      "metadata": {
        "id": "EI7HcM9YD-uY"
      },
      "source": [
        "Made by Nhat.\n"
      ]
    },
    {
      "cell_type": "markdown",
      "metadata": {},
      "source": [
        "12.23.2024"
      ]
    },
    {
      "cell_type": "markdown",
      "metadata": {
        "id": "D-bPXV5LEEnV"
      },
      "source": [
        "phannguyenlongnhat2k9@gmail.com"
      ]
    }
  ],
  "metadata": {
    "colab": {
      "authorship_tag": "ABX9TyMEsro2lnMOSME3J7Nz/rbB",
      "include_colab_link": true,
      "provenance": []
    },
    "kernelspec": {
      "display_name": "Python 3",
      "name": "python3"
    },
    "language_info": {
      "name": "python"
    }
  },
  "nbformat": 4,
  "nbformat_minor": 0
}
